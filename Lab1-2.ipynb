{
 "cells": [
  {
   "cell_type": "markdown",
   "id": "ec6e7d18-6a6e-4a51-a7cd-0a1152604973",
   "metadata": {},
   "source": [
    "## Лабораторная работа №1 | Вариант 2"
   ]
  },
  {
   "cell_type": "markdown",
   "id": "277877ce-f982-4711-a6a6-2a4a90871409",
   "metadata": {},
   "source": [
    "Выполнил: Салихов Тимур Русланович, группа М8О-212Б-22"
   ]
  },
  {
   "cell_type": "markdown",
   "id": "031f025d-84dc-470f-b839-456a76d9636b",
   "metadata": {},
   "source": [
    "### 1. Numpy"
   ]
  },
  {
   "cell_type": "code",
   "execution_count": 1,
   "id": "8a2c6f8d-e85b-4982-ba6d-77ffdb7d53e8",
   "metadata": {},
   "outputs": [],
   "source": [
    "import numpy as np"
   ]
  },
  {
   "cell_type": "markdown",
   "id": "6ff3559d-5f3e-4540-9a31-bfb9f42a23da",
   "metadata": {},
   "source": [
    "1. Создайте матрицу размером 8х8 и заполните ее шахматным рисунком"
   ]
  },
  {
   "cell_type": "code",
   "execution_count": 2,
   "id": "752bc586-1e3f-4085-85c3-4068b781314f",
   "metadata": {},
   "outputs": [
    {
     "name": "stdout",
     "output_type": "stream",
     "text": [
      "[[1 0 1 0 1 0 1 0]\n",
      " [0 1 0 1 0 1 0 1]\n",
      " [1 0 1 0 1 0 1 0]\n",
      " [0 1 0 1 0 1 0 1]\n",
      " [1 0 1 0 1 0 1 0]\n",
      " [0 1 0 1 0 1 0 1]\n",
      " [1 0 1 0 1 0 1 0]\n",
      " [0 1 0 1 0 1 0 1]]\n"
     ]
    }
   ],
   "source": [
    "a = np.zeros(64, dtype=np.int32).reshape(8, 8)\n",
    "a[::2, ::2] = 1\n",
    "a[1::2, 1::2] = 1\n",
    "print(a)"
   ]
  },
  {
   "cell_type": "markdown",
   "id": "0243a0f6-1905-4e2d-9572-9ba49dc003a8",
   "metadata": {},
   "source": [
    "2. Каков результат выполнения следующих выражений?\n",
    "\n",
    "```python\n",
    "np.array(0) / np.array(0)\n",
    "np.array(0) // np.array(0)\n",
    "np.array([np.nan]).astype(int).astype(float)\n",
    "```"
   ]
  },
  {
   "cell_type": "code",
   "execution_count": 3,
   "id": "ec6ae581-5adf-459c-bdc7-8b015d9529f6",
   "metadata": {},
   "outputs": [
    {
     "name": "stderr",
     "output_type": "stream",
     "text": [
      "/var/folders/js/hqym6h0s04d2w4lcp3dx6wkh0000gn/T/ipykernel_7211/873513115.py:1: RuntimeWarning: invalid value encountered in divide\n",
      "  np.array(0) / np.array(0)\n"
     ]
    },
    {
     "data": {
      "text/plain": [
       "np.float64(nan)"
      ]
     },
     "execution_count": 3,
     "metadata": {},
     "output_type": "execute_result"
    }
   ],
   "source": [
    "np.array(0) / np.array(0)"
   ]
  },
  {
   "cell_type": "code",
   "execution_count": 4,
   "id": "c2b7f029",
   "metadata": {},
   "outputs": [
    {
     "name": "stderr",
     "output_type": "stream",
     "text": [
      "/var/folders/js/hqym6h0s04d2w4lcp3dx6wkh0000gn/T/ipykernel_7211/2018018105.py:1: RuntimeWarning: divide by zero encountered in floor_divide\n",
      "  np.array(0) // np.array(0)\n"
     ]
    },
    {
     "data": {
      "text/plain": [
       "np.int64(0)"
      ]
     },
     "execution_count": 4,
     "metadata": {},
     "output_type": "execute_result"
    }
   ],
   "source": [
    "np.array(0) // np.array(0)"
   ]
  },
  {
   "cell_type": "code",
   "execution_count": 5,
   "id": "b9556545",
   "metadata": {},
   "outputs": [
    {
     "name": "stderr",
     "output_type": "stream",
     "text": [
      "/var/folders/js/hqym6h0s04d2w4lcp3dx6wkh0000gn/T/ipykernel_7211/699728972.py:1: RuntimeWarning: invalid value encountered in cast\n",
      "  np.array([np.nan]).astype(int).astype(float)\n"
     ]
    },
    {
     "data": {
      "text/plain": [
       "array([-9.22337204e+18])"
      ]
     },
     "execution_count": 5,
     "metadata": {},
     "output_type": "execute_result"
    }
   ],
   "source": [
    "np.array([np.nan]).astype(int).astype(float)"
   ]
  },
  {
   "cell_type": "markdown",
   "id": "8c7d3811-a555-4c02-ada8-e4a70b9dee46",
   "metadata": {},
   "source": [
    "3. Создайте матрицу-шахматную доску 8х8 используя функцию `tile`"
   ]
  },
  {
   "cell_type": "code",
   "execution_count": 6,
   "id": "12d0ed34-908c-4840-8b81-457e64dd7b0b",
   "metadata": {},
   "outputs": [
    {
     "name": "stdout",
     "output_type": "stream",
     "text": [
      "[[1 0 1 0 1 0 1 0]\n",
      " [0 1 0 1 0 1 0 1]\n",
      " [1 0 1 0 1 0 1 0]\n",
      " [0 1 0 1 0 1 0 1]\n",
      " [1 0 1 0 1 0 1 0]\n",
      " [0 1 0 1 0 1 0 1]\n",
      " [1 0 1 0 1 0 1 0]\n",
      " [0 1 0 1 0 1 0 1]]\n"
     ]
    }
   ],
   "source": [
    "a = np.array([[1, 0], [0, 1]])\n",
    "res = np.tile(a, (4, 4))\n",
    "print(res)"
   ]
  },
  {
   "cell_type": "markdown",
   "id": "b7ca56e6-a194-4c42-b8a2-307fcf40f648",
   "metadata": {},
   "source": [
    "4. Как округлить до целых массив чисел с плавающей точкой?"
   ]
  },
  {
   "cell_type": "code",
   "execution_count": 7,
   "id": "1b1d64cd-0e28-400f-8d49-a1274947e150",
   "metadata": {},
   "outputs": [
    {
     "name": "stdout",
     "output_type": "stream",
     "text": [
      "[1. 1. 1. 1. 1. 2. 2. 2. 2. 2. 2.]\n"
     ]
    }
   ],
   "source": [
    "res = np.array([1.0, 1.1, 1.2, 1.3, 1.4, 1.5, 1.6, 1.7, 1.8, 1.9, 2.0]).round()\n",
    "print(res)"
   ]
  },
  {
   "cell_type": "markdown",
   "id": "b3b2cd1e-e996-45e0-b9ed-e12ce653a9c3",
   "metadata": {},
   "source": [
    "5. Как найти общие значения между двумя массивами?"
   ]
  },
  {
   "cell_type": "code",
   "execution_count": 8,
   "id": "c40ef785-d750-42ba-ac6e-b777866202a6",
   "metadata": {},
   "outputs": [
    {
     "name": "stdout",
     "output_type": "stream",
     "text": [
      "[5 6]\n"
     ]
    }
   ],
   "source": [
    "res = np.intersect1d(np.array([1, 2, 3, 4, 5, 6]), np.array([5, 6, 7, 8, 9, 10]))\n",
    "print(res)"
   ]
  },
  {
   "cell_type": "markdown",
   "id": "8108b3a8-5ba8-472d-ad6b-095ade8678ef",
   "metadata": {},
   "source": [
    "6. Как вычислить ((A+B)*(-A/2)) на месте (без копирования)?"
   ]
  },
  {
   "cell_type": "code",
   "execution_count": 9,
   "id": "89b58c0a-bd5d-435a-be45-719fdfce662a",
   "metadata": {},
   "outputs": [
    {
     "name": "stdout",
     "output_type": "stream",
     "text": [
      "[ 2.5  7.  13.5]\n"
     ]
    }
   ],
   "source": [
    "A = np.array([1, 2, 3], dtype=np.float64)\n",
    "B = np.array([4, 5, 6], dtype=np.float64)\n",
    "\n",
    "(B.__iadd__(A)).__imul__((A).__itruediv__(2))\n",
    "print(B)"
   ]
  },
  {
   "cell_type": "markdown",
   "id": "98511652-db85-4506-a5b8-f94b05d35ce9",
   "metadata": {},
   "source": [
    "7. Рассмотрим случайный вектор с формой 100х2, представляющей координаты, и найдем расстояния от точки к точке"
   ]
  },
  {
   "cell_type": "code",
   "execution_count": 10,
   "id": "ca72cdb0-ed24-460d-81a9-220b850d62c3",
   "metadata": {},
   "outputs": [
    {
     "name": "stdout",
     "output_type": "stream",
     "text": [
      "[ 9.21954446  6.40312424  6.08276253  5.          7.07106781  5.83095189\n",
      "  4.          4.47213595  2.          6.70820393  5.09901951  6.\n",
      "  4.47213595  6.40312424  5.          3.16227766  4.47213595  7.28010989\n",
      "  3.          2.23606798  7.28010989  1.41421356  2.23606798  2.\n",
      "  2.23606798  3.60555128  4.47213595  5.09901951  4.12310563  6.32455532\n",
      "  7.07106781  7.28010989  9.          6.          9.48683298  9.21954446\n",
      "  3.60555128  1.41421356  7.61577311  8.60232527  1.          2.\n",
      "  7.          7.          3.16227766  7.07106781  0.          7.61577311\n",
      "  3.60555128  1.41421356  4.12310563  1.          3.16227766  5.83095189\n",
      "  2.82842712  4.47213595  2.          1.          2.          2.\n",
      "  1.41421356  5.          8.          2.23606798  3.16227766  3.\n",
      "  3.          2.82842712  7.07106781  3.60555128  7.07106781  4.12310563\n",
      "  1.          6.          7.28010989 10.81665383  1.41421356  9.21954446\n",
      "  7.07106781  2.23606798  2.          6.70820393  7.07106781  2.82842712\n",
      "  3.          1.          6.32455532  7.          7.28010989  2.82842712\n",
      "  6.70820393  4.12310563 10.29563014  7.81024968  3.16227766  5.38516481\n",
      "  9.43398113  0.          8.60232527]\n"
     ]
    }
   ],
   "source": [
    "points = np.random.randint(0, 10, (100, 2))\n",
    "dist = np.linalg.norm(np.diff(points, axis=0), axis=1)\n",
    "print(dist)"
   ]
  },
  {
   "cell_type": "markdown",
   "id": "1412a70a-2a1e-406e-a227-afc9a47ed659",
   "metadata": {},
   "source": [
    "8. Как конвертировать массив float(32 bit) к массиву целых чисел (integer 32 bit) in place?"
   ]
  },
  {
   "cell_type": "code",
   "execution_count": 11,
   "id": "22bb8bbf-52dd-4d3c-86c0-c4e9637b909b",
   "metadata": {},
   "outputs": [
    {
     "name": "stdout",
     "output_type": "stream",
     "text": [
      "[1 2 3]\n"
     ]
    }
   ],
   "source": [
    "a = np.array([1, 2, 3], dtype = np.float32).astype(np.int32, copy=False)\n",
    "print(a)\n"
   ]
  },
  {
   "cell_type": "markdown",
   "id": "f7dc66bf-f7c8-4d78-834b-451651f6839a",
   "metadata": {},
   "source": [
    "9. Создайте структурированный массив, представляющий позицию (x, y) и цвет (r, g, b)."
   ]
  },
  {
   "cell_type": "code",
   "execution_count": 12,
   "id": "0ecf5586-d30e-4256-ab93-7ff9bab0b34b",
   "metadata": {},
   "outputs": [
    {
     "name": "stdout",
     "output_type": "stream",
     "text": [
      "[((10, 10), (255, 255, 255))]\n"
     ]
    }
   ],
   "source": [
    "positional_type = np.dtype([(\"x\", np.int64), (\"y\", np.int64)])\n",
    "color_type = np.dtype([(\"r\", np.uint8), (\"g\", np.uint8), (\"b\", np.uint8)])\n",
    "\n",
    "type = np.dtype([(\"position\", positional_type), (\"color\", color_type)])\n",
    "array = np.array([((10, 10), (255, 255, 255))], dtype=type)\n",
    "print(array)"
   ]
  },
  {
   "cell_type": "markdown",
   "id": "a66194f1-0099-4808-8ebf-5cf10eee5071",
   "metadata": {},
   "source": [
    "10. Какой эквивалент enumerate для numpy массивов?"
   ]
  },
  {
   "cell_type": "code",
   "execution_count": 13,
   "id": "07ed452c-3f7c-40a7-a5b5-716602a5eed9",
   "metadata": {},
   "outputs": [
    {
     "name": "stdout",
     "output_type": "stream",
     "text": [
      "[[0 1 2]\n",
      " [3 4 5]\n",
      " [6 7 8]]\n",
      "(0, 0) 0\n",
      "(0, 1) 1\n",
      "(0, 2) 2\n",
      "(1, 0) 3\n",
      "(1, 1) 4\n",
      "(1, 2) 5\n",
      "(2, 0) 6\n",
      "(2, 1) 7\n",
      "(2, 2) 8\n"
     ]
    }
   ],
   "source": [
    "a = np.arange(9).reshape(3, 3)\n",
    "print(a)\n",
    "\n",
    "enum = np.ndenumerate(a)\n",
    "for index, base in enum:\n",
    "    print(index, base)"
   ]
  },
  {
   "cell_type": "markdown",
   "id": "5bd0f757-bb01-4afb-b4f0-6821b5c5b2b7",
   "metadata": {},
   "source": [
    "### 2. Pandas"
   ]
  },
  {
   "cell_type": "markdown",
   "id": "bdffd013-e573-4318-8062-65ae1c5e07e8",
   "metadata": {},
   "source": [
    "Найдите ответы на вопросы или выполните действия с предложенным датасетом \n",
    "\n",
    "Данные о преступлениях, совершенных женщинами в Индии, с демографическими подробностями.\n",
    "\n",
    "Файл: `CrimesOnWomenData.csv`\n",
    "\n",
    "```\n",
    "State - название штата/региона\n",
    "Year - год записи\n",
    "Rape - случаи изнасилования\n",
    "K&A - случаи похищения \n",
    "DD - смерти из-за приданого\n",
    "AoW - нападение на женщин\n",
    "AoM - нападение на женскую скромность(modestity)\n",
    "DV - бытовое насилие\n",
    "WT - торговля женщинами\n",
    "```"
   ]
  },
  {
   "cell_type": "code",
   "execution_count": 14,
   "id": "0778ec2b-a7b2-4738-b771-bb1781986f62",
   "metadata": {},
   "outputs": [],
   "source": [
    "import pandas as pd"
   ]
  },
  {
   "cell_type": "code",
   "execution_count": 15,
   "id": "bfc45614-d44b-49bd-a55c-c410a95a808f",
   "metadata": {},
   "outputs": [
    {
     "data": {
      "text/html": [
       "<div>\n",
       "<style scoped>\n",
       "    .dataframe tbody tr th:only-of-type {\n",
       "        vertical-align: middle;\n",
       "    }\n",
       "\n",
       "    .dataframe tbody tr th {\n",
       "        vertical-align: top;\n",
       "    }\n",
       "\n",
       "    .dataframe thead th {\n",
       "        text-align: right;\n",
       "    }\n",
       "</style>\n",
       "<table border=\"1\" class=\"dataframe\">\n",
       "  <thead>\n",
       "    <tr style=\"text-align: right;\">\n",
       "      <th></th>\n",
       "      <th>Unnamed: 0</th>\n",
       "      <th>State</th>\n",
       "      <th>Year</th>\n",
       "      <th>Rape</th>\n",
       "      <th>K&amp;A</th>\n",
       "      <th>DD</th>\n",
       "      <th>AoW</th>\n",
       "      <th>AoM</th>\n",
       "      <th>DV</th>\n",
       "      <th>WT</th>\n",
       "    </tr>\n",
       "  </thead>\n",
       "  <tbody>\n",
       "    <tr>\n",
       "      <th>0</th>\n",
       "      <td>0</td>\n",
       "      <td>Andhra Pradesh</td>\n",
       "      <td>2001</td>\n",
       "      <td>871</td>\n",
       "      <td>765</td>\n",
       "      <td>420</td>\n",
       "      <td>3544</td>\n",
       "      <td>2271</td>\n",
       "      <td>5791</td>\n",
       "      <td>7</td>\n",
       "    </tr>\n",
       "    <tr>\n",
       "      <th>1</th>\n",
       "      <td>1</td>\n",
       "      <td>Arunachal Pradesh</td>\n",
       "      <td>2001</td>\n",
       "      <td>33</td>\n",
       "      <td>55</td>\n",
       "      <td>0</td>\n",
       "      <td>78</td>\n",
       "      <td>3</td>\n",
       "      <td>11</td>\n",
       "      <td>0</td>\n",
       "    </tr>\n",
       "    <tr>\n",
       "      <th>2</th>\n",
       "      <td>2</td>\n",
       "      <td>Assam</td>\n",
       "      <td>2001</td>\n",
       "      <td>817</td>\n",
       "      <td>1070</td>\n",
       "      <td>59</td>\n",
       "      <td>850</td>\n",
       "      <td>4</td>\n",
       "      <td>1248</td>\n",
       "      <td>0</td>\n",
       "    </tr>\n",
       "    <tr>\n",
       "      <th>3</th>\n",
       "      <td>3</td>\n",
       "      <td>Bihar</td>\n",
       "      <td>2001</td>\n",
       "      <td>888</td>\n",
       "      <td>518</td>\n",
       "      <td>859</td>\n",
       "      <td>562</td>\n",
       "      <td>21</td>\n",
       "      <td>1558</td>\n",
       "      <td>83</td>\n",
       "    </tr>\n",
       "    <tr>\n",
       "      <th>4</th>\n",
       "      <td>4</td>\n",
       "      <td>Chhattisgarh</td>\n",
       "      <td>2001</td>\n",
       "      <td>959</td>\n",
       "      <td>171</td>\n",
       "      <td>70</td>\n",
       "      <td>1763</td>\n",
       "      <td>161</td>\n",
       "      <td>840</td>\n",
       "      <td>0</td>\n",
       "    </tr>\n",
       "    <tr>\n",
       "      <th>...</th>\n",
       "      <td>...</td>\n",
       "      <td>...</td>\n",
       "      <td>...</td>\n",
       "      <td>...</td>\n",
       "      <td>...</td>\n",
       "      <td>...</td>\n",
       "      <td>...</td>\n",
       "      <td>...</td>\n",
       "      <td>...</td>\n",
       "      <td>...</td>\n",
       "    </tr>\n",
       "    <tr>\n",
       "      <th>731</th>\n",
       "      <td>731</td>\n",
       "      <td>D&amp;N Haveli</td>\n",
       "      <td>2021</td>\n",
       "      <td>1250</td>\n",
       "      <td>4083</td>\n",
       "      <td>141</td>\n",
       "      <td>2068</td>\n",
       "      <td>417</td>\n",
       "      <td>4731</td>\n",
       "      <td>4</td>\n",
       "    </tr>\n",
       "    <tr>\n",
       "      <th>732</th>\n",
       "      <td>732</td>\n",
       "      <td>Daman &amp; Diu</td>\n",
       "      <td>2021</td>\n",
       "      <td>315</td>\n",
       "      <td>904</td>\n",
       "      <td>16</td>\n",
       "      <td>1851</td>\n",
       "      <td>10</td>\n",
       "      <td>501</td>\n",
       "      <td>1</td>\n",
       "    </tr>\n",
       "    <tr>\n",
       "      <th>733</th>\n",
       "      <td>733</td>\n",
       "      <td>Delhi Ut</td>\n",
       "      <td>2021</td>\n",
       "      <td>2</td>\n",
       "      <td>1</td>\n",
       "      <td>0</td>\n",
       "      <td>5</td>\n",
       "      <td>1</td>\n",
       "      <td>9</td>\n",
       "      <td>0</td>\n",
       "    </tr>\n",
       "    <tr>\n",
       "      <th>734</th>\n",
       "      <td>734</td>\n",
       "      <td>Lakshadweep</td>\n",
       "      <td>2021</td>\n",
       "      <td>0</td>\n",
       "      <td>0</td>\n",
       "      <td>0</td>\n",
       "      <td>1</td>\n",
       "      <td>1</td>\n",
       "      <td>3</td>\n",
       "      <td>0</td>\n",
       "    </tr>\n",
       "    <tr>\n",
       "      <th>735</th>\n",
       "      <td>735</td>\n",
       "      <td>Puducherry</td>\n",
       "      <td>2021</td>\n",
       "      <td>2</td>\n",
       "      <td>0</td>\n",
       "      <td>2</td>\n",
       "      <td>31</td>\n",
       "      <td>3</td>\n",
       "      <td>12</td>\n",
       "      <td>0</td>\n",
       "    </tr>\n",
       "  </tbody>\n",
       "</table>\n",
       "<p>736 rows × 10 columns</p>\n",
       "</div>"
      ],
      "text/plain": [
       "     Unnamed: 0              State  Year  Rape   K&A   DD   AoW   AoM    DV  \\\n",
       "0             0     Andhra Pradesh  2001   871   765  420  3544  2271  5791   \n",
       "1             1  Arunachal Pradesh  2001    33    55    0    78     3    11   \n",
       "2             2              Assam  2001   817  1070   59   850     4  1248   \n",
       "3             3              Bihar  2001   888   518  859   562    21  1558   \n",
       "4             4       Chhattisgarh  2001   959   171   70  1763   161   840   \n",
       "..          ...                ...   ...   ...   ...  ...   ...   ...   ...   \n",
       "731         731         D&N Haveli  2021  1250  4083  141  2068   417  4731   \n",
       "732         732        Daman & Diu  2021   315   904   16  1851    10   501   \n",
       "733         733           Delhi Ut  2021     2     1    0     5     1     9   \n",
       "734         734        Lakshadweep  2021     0     0    0     1     1     3   \n",
       "735         735         Puducherry  2021     2     0    2    31     3    12   \n",
       "\n",
       "     WT  \n",
       "0     7  \n",
       "1     0  \n",
       "2     0  \n",
       "3    83  \n",
       "4     0  \n",
       "..   ..  \n",
       "731   4  \n",
       "732   1  \n",
       "733   0  \n",
       "734   0  \n",
       "735   0  \n",
       "\n",
       "[736 rows x 10 columns]"
      ]
     },
     "execution_count": 15,
     "metadata": {},
     "output_type": "execute_result"
    }
   ],
   "source": [
    "# Load dataset here\n",
    "df = pd.read_csv(\"CrimesOnWomenData.csv\")\n",
    "df[\"State\"] = df[\"State\"].str.title()\n",
    "df"
   ]
  },
  {
   "cell_type": "markdown",
   "id": "1026e8c6-513a-41e3-b2f4-68aae18b8435",
   "metadata": {},
   "source": [
    "1. За какие года представлен набор данных?"
   ]
  },
  {
   "cell_type": "code",
   "execution_count": 16,
   "id": "e74655aa-b97c-42e5-b972-e0753ddc2331",
   "metadata": {},
   "outputs": [
    {
     "name": "stdout",
     "output_type": "stream",
     "text": [
      "[2001 2002 2003 2004 2005 2006 2007 2008 2009 2010 2011 2012 2013 2014\n",
      " 2015 2016 2017 2018 2019 2020 2021]\n"
     ]
    }
   ],
   "source": [
    "print(df[\"Year\"].unique())"
   ]
  },
  {
   "cell_type": "markdown",
   "id": "eee028a5-9311-4a4f-b4ac-1fb75acfb4b3",
   "metadata": {},
   "source": [
    "2. Выявите район с самым высоким количеством убийств женщин"
   ]
  },
  {
   "cell_type": "code",
   "execution_count": 17,
   "id": "ac0fb641-96d2-4e7c-88d5-636ce3b699d2",
   "metadata": {},
   "outputs": [
    {
     "name": "stdout",
     "output_type": "stream",
     "text": [
      "Uttar Pradesh 40615\n"
     ]
    }
   ],
   "source": [
    "grouped = df.groupby(\"State\")[\"DD\"].sum()\n",
    "\n",
    "print(grouped.idxmax(), grouped.max())\n"
   ]
  },
  {
   "cell_type": "markdown",
   "id": "cd7979ba-2fa8-4fd3-986d-26cee122da1f",
   "metadata": {},
   "source": [
    "3. Какое среднее число изнасилований женщин в индии наблюдалось в указанные года?"
   ]
  },
  {
   "cell_type": "code",
   "execution_count": 18,
   "id": "3915f77b-116c-482b-8644-2f5f11931af9",
   "metadata": {},
   "outputs": [
    {
     "name": "stdout",
     "output_type": "stream",
     "text": [
      "Year\n",
      "2001     461.588235\n",
      "2002     469.705882\n",
      "2003     451.676471\n",
      "2004     520.058824\n",
      "2005     520.617647\n",
      "2006     550.735294\n",
      "2007     592.323529\n",
      "2008     617.676471\n",
      "2009     615.529412\n",
      "2010     637.205882\n",
      "2011     672.388889\n",
      "2012     692.305556\n",
      "2013     936.305556\n",
      "2014    1020.416667\n",
      "2015     962.527778\n",
      "2016    1081.861111\n",
      "2017     904.416667\n",
      "2018     926.555556\n",
      "2019     889.805556\n",
      "2020     779.055556\n",
      "2021     879.916667\n",
      "Name: Rape, dtype: float64\n"
     ]
    }
   ],
   "source": [
    "grouped = df.groupby(\"Year\")[\"Rape\"].mean()\n",
    "print(grouped)"
   ]
  },
  {
   "cell_type": "markdown",
   "id": "1b69ba67-61a8-4765-9795-cfab1a09e929",
   "metadata": {},
   "source": [
    "4. Выявите район с минимальным числом похищений за период 2001-2003 года"
   ]
  },
  {
   "cell_type": "code",
   "execution_count": 19,
   "id": "1228d2e9-fc56-4240-95c6-c98a8b84c016",
   "metadata": {},
   "outputs": [
    {
     "name": "stdout",
     "output_type": "stream",
     "text": [
      "Lakshadweep 0\n"
     ]
    }
   ],
   "source": [
    "filtered = df[(df[\"Year\"] >= 2001) & (df[\"Year\"] <= 2003)]\n",
    "grouped = filtered.groupby(\"State\")[\"K&A\"].sum()\n",
    "print(grouped.idxmin(), grouped.min())"
   ]
  },
  {
   "cell_type": "markdown",
   "id": "5acec4fd-f740-49a8-a5d8-562d358239c9",
   "metadata": {},
   "source": [
    "5. Перечислите районы в которых наблюдались наиболее частые случае домашнего насилия за период с 2005 по 2012 года"
   ]
  },
  {
   "cell_type": "code",
   "execution_count": 20,
   "id": "cac8daef-f4e8-4c8b-b7f4-d41a6adf35ed",
   "metadata": {},
   "outputs": [
    {
     "name": "stdout",
     "output_type": "stream",
     "text": [
      "State\n",
      "West Bengal       111458\n",
      "Andhra Pradesh     89643\n",
      "Rajasthan          76364\n",
      "Maharashtra        57822\n",
      "Uttar Pradesh      56997\n",
      "Name: DV, dtype: int64\n"
     ]
    }
   ],
   "source": [
    "filtered = df[(df[\"Year\"] >= 2005) & (df[\"Year\"] <= 2012)]\n",
    "grouped = filtered.groupby(\"State\")[\"DV\"].sum()\n",
    "print(grouped.sort_values(ascending=False).head())"
   ]
  },
  {
   "cell_type": "markdown",
   "id": "8d6171a9-0f75-4f3e-ac54-95d03d1f70b6",
   "metadata": {},
   "source": [
    "6. Выведите названия районов в порядке не возрастания случаев торговли женщинами за 2020 год"
   ]
  },
  {
   "cell_type": "code",
   "execution_count": 21,
   "id": "c64d0892-2fb8-4304-966c-5cbb32b03c0a",
   "metadata": {},
   "outputs": [
    {
     "name": "stdout",
     "output_type": "stream",
     "text": [
      "State\n",
      "Sikkim               231\n",
      "Jharkhand            159\n",
      "Madhya Pradesh        85\n",
      "Punjab                67\n",
      "Uttarakhand           52\n",
      "Andhra Pradesh        48\n",
      "Gujarat               47\n",
      "Bihar                 30\n",
      "Haryana               28\n",
      "Tripura               25\n",
      "Nagaland              19\n",
      "Assam                 18\n",
      "Kerala                14\n",
      "Tamil Nadu            13\n",
      "Odisha                11\n",
      "Uttar Pradesh          8\n",
      "Karnataka              5\n",
      "D&N Haveli             3\n",
      "Chhattisgarh           3\n",
      "Jammu & Kashmir        2\n",
      "Arunachal Pradesh      0\n",
      "A & N Islands          0\n",
      "Lakshadweep            0\n",
      "Himachal Pradesh       0\n",
      "Chandigarh             0\n",
      "Daman & Diu            0\n",
      "Delhi Ut               0\n",
      "Goa                    0\n",
      "Puducherry             0\n",
      "Manipur                0\n",
      "Meghalaya              0\n",
      "Mizoram                0\n",
      "Maharashtra            0\n",
      "Rajasthan              0\n",
      "Telangana              0\n",
      "West Bengal            0\n",
      "Name: WT, dtype: int64\n"
     ]
    }
   ],
   "source": [
    "filtered = df[df[\"Year\"] == 2020]\n",
    "grouped = filtered.groupby(\"State\")[\"WT\"].sum()\n",
    "print(grouped.sort_values(ascending=False))"
   ]
  },
  {
   "cell_type": "markdown",
   "id": "a24c2f59-eeaf-47fd-8224-1023d1a8edeb",
   "metadata": {},
   "source": [
    "Перейдем к следующему набору данных.\n",
    "\n",
    "Файл: `CustomerPurchasingBehaviors.csv`\n",
    "\n",
    "Этот набор данных содержит информацию о профилях клиентов и их покупательском поведении. Данные содержат столбцы, содержащие идентификатор пользователя, возраст, годовой доход, сумму покупки, показатель лояльности (в разбивке по классам), регион и частоту покупок. Он предназначен для анализа тенденций сегментации клиентов и лояльности и может быть использован для различных задач машинного обучения и анализа данных, связанных с поведением клиентов и исследованиями рынка.\n",
    "\n",
    "```\n",
    "user_id - ID клиента\n",
    "age - Возраст\n",
    "annual_income - Годовой доход клиента (в долларах США).\n",
    "purchase_amount - Общая сумма покупок, совершенных клиентом (в долларах США).\n",
    "loyalty_score - Показатель лояльности клиента (значение от 0 до 100).\n",
    "region - Регион, в котором проживает клиент (Север, Юг, Восток, Запад).\n",
    "purchase_frequency - Частота покупок клиентов (количество раз в год).\n",
    "```"
   ]
  },
  {
   "cell_type": "code",
   "execution_count": 22,
   "id": "7407fc92-f656-44b4-bc3a-b86d0a8664ea",
   "metadata": {},
   "outputs": [
    {
     "data": {
      "text/html": [
       "<div>\n",
       "<style scoped>\n",
       "    .dataframe tbody tr th:only-of-type {\n",
       "        vertical-align: middle;\n",
       "    }\n",
       "\n",
       "    .dataframe tbody tr th {\n",
       "        vertical-align: top;\n",
       "    }\n",
       "\n",
       "    .dataframe thead th {\n",
       "        text-align: right;\n",
       "    }\n",
       "</style>\n",
       "<table border=\"1\" class=\"dataframe\">\n",
       "  <thead>\n",
       "    <tr style=\"text-align: right;\">\n",
       "      <th></th>\n",
       "      <th>user_id</th>\n",
       "      <th>age</th>\n",
       "      <th>annual_income</th>\n",
       "      <th>purchase_amount</th>\n",
       "      <th>loyalty_score</th>\n",
       "      <th>region</th>\n",
       "      <th>purchase_frequency</th>\n",
       "    </tr>\n",
       "  </thead>\n",
       "  <tbody>\n",
       "    <tr>\n",
       "      <th>0</th>\n",
       "      <td>1</td>\n",
       "      <td>25</td>\n",
       "      <td>45000</td>\n",
       "      <td>200</td>\n",
       "      <td>4.5</td>\n",
       "      <td>North</td>\n",
       "      <td>12</td>\n",
       "    </tr>\n",
       "    <tr>\n",
       "      <th>1</th>\n",
       "      <td>2</td>\n",
       "      <td>34</td>\n",
       "      <td>55000</td>\n",
       "      <td>350</td>\n",
       "      <td>7.0</td>\n",
       "      <td>South</td>\n",
       "      <td>18</td>\n",
       "    </tr>\n",
       "    <tr>\n",
       "      <th>2</th>\n",
       "      <td>3</td>\n",
       "      <td>45</td>\n",
       "      <td>65000</td>\n",
       "      <td>500</td>\n",
       "      <td>8.0</td>\n",
       "      <td>West</td>\n",
       "      <td>22</td>\n",
       "    </tr>\n",
       "    <tr>\n",
       "      <th>3</th>\n",
       "      <td>4</td>\n",
       "      <td>22</td>\n",
       "      <td>30000</td>\n",
       "      <td>150</td>\n",
       "      <td>3.0</td>\n",
       "      <td>East</td>\n",
       "      <td>10</td>\n",
       "    </tr>\n",
       "    <tr>\n",
       "      <th>4</th>\n",
       "      <td>5</td>\n",
       "      <td>29</td>\n",
       "      <td>47000</td>\n",
       "      <td>220</td>\n",
       "      <td>4.8</td>\n",
       "      <td>North</td>\n",
       "      <td>13</td>\n",
       "    </tr>\n",
       "    <tr>\n",
       "      <th>...</th>\n",
       "      <td>...</td>\n",
       "      <td>...</td>\n",
       "      <td>...</td>\n",
       "      <td>...</td>\n",
       "      <td>...</td>\n",
       "      <td>...</td>\n",
       "      <td>...</td>\n",
       "    </tr>\n",
       "    <tr>\n",
       "      <th>233</th>\n",
       "      <td>234</td>\n",
       "      <td>40</td>\n",
       "      <td>60000</td>\n",
       "      <td>450</td>\n",
       "      <td>7.2</td>\n",
       "      <td>West</td>\n",
       "      <td>20</td>\n",
       "    </tr>\n",
       "    <tr>\n",
       "      <th>234</th>\n",
       "      <td>235</td>\n",
       "      <td>38</td>\n",
       "      <td>59000</td>\n",
       "      <td>430</td>\n",
       "      <td>6.9</td>\n",
       "      <td>North</td>\n",
       "      <td>20</td>\n",
       "    </tr>\n",
       "    <tr>\n",
       "      <th>235</th>\n",
       "      <td>236</td>\n",
       "      <td>54</td>\n",
       "      <td>74000</td>\n",
       "      <td>630</td>\n",
       "      <td>9.4</td>\n",
       "      <td>South</td>\n",
       "      <td>27</td>\n",
       "    </tr>\n",
       "    <tr>\n",
       "      <th>236</th>\n",
       "      <td>237</td>\n",
       "      <td>32</td>\n",
       "      <td>52000</td>\n",
       "      <td>360</td>\n",
       "      <td>5.8</td>\n",
       "      <td>West</td>\n",
       "      <td>18</td>\n",
       "    </tr>\n",
       "    <tr>\n",
       "      <th>237</th>\n",
       "      <td>238</td>\n",
       "      <td>31</td>\n",
       "      <td>51000</td>\n",
       "      <td>340</td>\n",
       "      <td>5.6</td>\n",
       "      <td>North</td>\n",
       "      <td>17</td>\n",
       "    </tr>\n",
       "  </tbody>\n",
       "</table>\n",
       "<p>238 rows × 7 columns</p>\n",
       "</div>"
      ],
      "text/plain": [
       "     user_id  age  annual_income  purchase_amount  loyalty_score region  \\\n",
       "0          1   25          45000              200            4.5  North   \n",
       "1          2   34          55000              350            7.0  South   \n",
       "2          3   45          65000              500            8.0   West   \n",
       "3          4   22          30000              150            3.0   East   \n",
       "4          5   29          47000              220            4.8  North   \n",
       "..       ...  ...            ...              ...            ...    ...   \n",
       "233      234   40          60000              450            7.2   West   \n",
       "234      235   38          59000              430            6.9  North   \n",
       "235      236   54          74000              630            9.4  South   \n",
       "236      237   32          52000              360            5.8   West   \n",
       "237      238   31          51000              340            5.6  North   \n",
       "\n",
       "     purchase_frequency  \n",
       "0                    12  \n",
       "1                    18  \n",
       "2                    22  \n",
       "3                    10  \n",
       "4                    13  \n",
       "..                  ...  \n",
       "233                  20  \n",
       "234                  20  \n",
       "235                  27  \n",
       "236                  18  \n",
       "237                  17  \n",
       "\n",
       "[238 rows x 7 columns]"
      ]
     },
     "execution_count": 22,
     "metadata": {},
     "output_type": "execute_result"
    }
   ],
   "source": [
    "# Load dataset here\n",
    "df = pd.read_csv(\"CustomerPurchasingBehaviors.csv\")\n",
    "df"
   ]
  },
  {
   "cell_type": "markdown",
   "id": "1d447d6e-cfde-411c-9078-cd8f41f02d8b",
   "metadata": {},
   "source": [
    "8. Какой средний годовой доход у клиентов с уровнем лояльности больше 50 живущих на севере"
   ]
  },
  {
   "cell_type": "code",
   "execution_count": 23,
   "id": "b30df6b1-5eca-43da-a115-1c1a3cbfd899",
   "metadata": {},
   "outputs": [
    {
     "name": "stdout",
     "output_type": "stream",
     "text": [
      "60146.34146341463\n"
     ]
    }
   ],
   "source": [
    "res = df[(df[\"loyalty_score\"] > 5) & (df[\"region\"] == \"North\")][\"annual_income\"].mean()\n",
    "print(res)"
   ]
  },
  {
   "cell_type": "markdown",
   "id": "c41d5d99-65f7-4d17-82ae-971ec959f327",
   "metadata": {},
   "source": [
    "9. Выведите 25 и 75 перцентили уровня лоальности клиентов живущих на западе с частотой покупок более 20 раз в год"
   ]
  },
  {
   "cell_type": "code",
   "execution_count": 24,
   "id": "275bcc04-659b-4521-a9e5-200a5f4ef674",
   "metadata": {},
   "outputs": [
    {
     "name": "stdout",
     "output_type": "stream",
     "text": [
      "8.5\n",
      "9.2\n"
     ]
    }
   ],
   "source": [
    "series = df[(df[\"region\"] == \"West\") & (df[\"purchase_frequency\"] > 20)][\"loyalty_score\"]\n",
    "print(series.quantile(0.25))\n",
    "print(series.quantile(0.75))"
   ]
  },
  {
   "cell_type": "markdown",
   "id": "a1f7a5c0-259c-4837-a5d1-2dfc05e7c13e",
   "metadata": {},
   "source": [
    "10. Отличается ли медианный возраст клиентов с уровнем лояльности более 70 и менее 10 для жителей Востока и Севера."
   ]
  },
  {
   "cell_type": "code",
   "execution_count": 25,
   "id": "a2da4d57-edb4-4179-8bee-3deda6cd00e6",
   "metadata": {},
   "outputs": [
    {
     "name": "stdout",
     "output_type": "stream",
     "text": [
      "High loyalty: 46.0\n",
      "Low loyalty: nan\n",
      "Yes\n"
     ]
    }
   ],
   "source": [
    "region_df = df[(df[\"region\"] == \"East\") | (df[\"region\"] == \"North\")]\n",
    "high_loyalty_df = region_df[region_df[\"loyalty_score\"] > 7]\n",
    "low_loyalty_df = region_df[region_df[\"loyalty_score\"] < 1]\n",
    "\n",
    "print(\"High loyalty:\", high_loyalty_df[\"age\"].median())\n",
    "print(\"Low loyalty:\", low_loyalty_df[\"age\"].median())\n",
    "\n",
    "if (high_loyalty_df[\"age\"].median() == low_loyalty_df[\"age\"].median()):\n",
    "    print(\"No\")\n",
    "else:\n",
    "    print(\"Yes\")"
   ]
  },
  {
   "cell_type": "markdown",
   "id": "deb4ca3a-3d8a-4205-bee9-d26fd28638b2",
   "metadata": {},
   "source": [
    "### 3. Визуализация"
   ]
  },
  {
   "cell_type": "markdown",
   "id": "f8941ce1-cbf2-465a-b013-1b84aeb999ef",
   "metadata": {},
   "source": [
    "Используя библиотеки matplotlib/sns/plotly/pandas и набор данных представленный ранее визуализируйте"
   ]
  },
  {
   "cell_type": "code",
   "execution_count": 26,
   "id": "523fbba5",
   "metadata": {},
   "outputs": [],
   "source": [
    "import matplotlib.pyplot as plt\n",
    "import seaborn as sns"
   ]
  },
  {
   "cell_type": "markdown",
   "id": "5e98ce6f-8d02-4120-ad85-241494c038d6",
   "metadata": {},
   "source": [
    "1. Постройте диаграмму которая отражает средний уровень лояльности во всех регионах"
   ]
  },
  {
   "cell_type": "code",
   "execution_count": 27,
   "id": "664666b2-17b7-49dd-a3bd-c4be9361755d",
   "metadata": {},
   "outputs": [
    {
     "data": {
      "image/png": "[encoded data removed]",
      "text/plain": [
       "<Figure size 1000x600 with 1 Axes>"
      ]
     },
     "metadata": {},
     "output_type": "display_data"
    }
   ],
   "source": [
    "grouped = df.groupby(\"region\")[\"loyalty_score\"].mean()\n",
    "\n",
    "plt.figure(figsize=(10, 6))\n",
    "ax = sns.barplot(grouped)\n",
    "ax.set_xlabel(\"Region\")\n",
    "ax.set_ylabel(\"Mean loyalty score\")\n",
    "plt.show()"
   ]
  },
  {
   "cell_type": "markdown",
   "id": "4c7500bb-36ca-4ea7-bc3c-4f15afbd4c41",
   "metadata": {},
   "source": [
    "2. Постройте гистограмму распределения зарплат клиентов на Севере."
   ]
  },
  {
   "cell_type": "code",
   "execution_count": 28,
   "id": "7325e7f8-5f00-4a82-8184-7064505f7ccd",
   "metadata": {},
   "outputs": [
    {
     "data": {
      "image/png": "[encoded data removed]",
      "text/plain": [
       "<Figure size 1000x600 with 1 Axes>"
      ]
     },
     "metadata": {},
     "output_type": "display_data"
    }
   ],
   "source": [
    "filtered = df[df[\"region\"] == \"North\"]\n",
    "\n",
    "plt.figure(figsize=(10, 6))\n",
    "ax = sns.histplot(filtered[\"annual_income\"])\n",
    "ax.set_xlabel(\"Annual income (North clients)\")\n",
    "plt.show()"
   ]
  },
  {
   "cell_type": "markdown",
   "id": "efdd0669-36e0-4708-ac6b-ad0d92881113",
   "metadata": {},
   "source": [
    "3. Сравните уровни зарплат людей на севере и юге."
   ]
  },
  {
   "cell_type": "code",
   "execution_count": 29,
   "id": "7504a170-04a1-4b86-924d-8d46be16fd3c",
   "metadata": {},
   "outputs": [
    {
     "data": {
      "image/png": "[encoded data removed]",
      "text/plain": [
       "<Figure size 1000x600 with 1 Axes>"
      ]
     },
     "metadata": {},
     "output_type": "display_data"
    }
   ],
   "source": [
    "filtered = df[(df[\"region\"] == \"North\") | (df[\"region\"] == \"South\")]\n",
    "\n",
    "plt.figure(figsize=(10, 6))\n",
    "ax = sns.barplot(filtered, x=\"region\", y=\"annual_income\")\n",
    "ax.set_xlabel(\"Region\")\n",
    "ax.set_ylabel(\"Annual income\")\n",
    "plt.show()\n"
   ]
  },
  {
   "cell_type": "markdown",
   "id": "b5839a48-e992-45fc-81ee-59cb5aa79dda",
   "metadata": {},
   "source": [
    "4. Постройте box plot отображающий распределение уровня лояльности для людей до 20 лет, от 20 до 40, от 40 до 60 и старше 60 лет"
   ]
  },
  {
   "cell_type": "code",
   "execution_count": 30,
   "id": "1a942378-45ea-47a0-bac9-488960491613",
   "metadata": {},
   "outputs": [
    {
     "data": {
      "image/png": "[encoded data removed]",
      "text/plain": [
       "<Figure size 1000x600 with 1 Axes>"
      ]
     },
     "metadata": {},
     "output_type": "display_data"
    }
   ],
   "source": [
    "below20 = df[df[\"age\"] < 20].assign(Group=\"Below 20\")\n",
    "between2040 = df[(df[\"age\"] >= 20) & (df[\"age\"] <= 40)].assign(Group=\"Between 20 and 40\")\n",
    "between4060 = df[(df[\"age\"] >= 40) & (df[\"age\"] <= 60)].assign(Group=\"Between 40 and 60\")\n",
    "above40 = df[df[\"age\"] > 60].assign(Group=\"Above 60\")\n",
    "\n",
    "cdf = pd.concat([below20, between2040, between4060, above40])\n",
    "\n",
    "plt.figure(figsize=(10, 6))\n",
    "ax = sns.boxplot(cdf, x=\"loyalty_score\", y=\"Group\")\n",
    "ax.set_xlabel(\"Loyalty score\")\n",
    "plt.show()"
   ]
  },
  {
   "cell_type": "markdown",
   "id": "d4c97bef-bb64-43cc-a89f-7510174492ec",
   "metadata": {},
   "source": [
    "5. Визуализируйте зависимость частоты покупок от заработка"
   ]
  },
  {
   "cell_type": "code",
   "execution_count": 31,
   "id": "a1f444af-3544-432c-8dc6-bb74d4cff272",
   "metadata": {},
   "outputs": [
    {
     "data": {
      "image/png": "[encoded data removed]",
      "text/plain": [
       "<Figure size 1000x600 with 1 Axes>"
      ]
     },
     "metadata": {},
     "output_type": "display_data"
    }
   ],
   "source": [
    "plt.figure(figsize=(10, 6))\n",
    "ax = sns.lineplot(df, x=\"annual_income\", y=\"purchase_frequency\")\n",
    "ax.set_xlabel(\"Annual income\")\n",
    "ax.set_ylabel(\"Purchase frequency\")\n",
    "plt.show()"
   ]
  },
  {
   "cell_type": "markdown",
   "id": "a2ab764c-8ac1-4c5a-93ad-8168b0eb4934",
   "metadata": {},
   "source": [
    "6. Визуализируйте как зависит сумма покупок от зарплаты клиента"
   ]
  },
  {
   "cell_type": "code",
   "execution_count": 32,
   "id": "6449e306-fb6c-46d4-bcd8-b6b76fbf69d2",
   "metadata": {},
   "outputs": [
    {
     "data": {
      "image/png": "[encoded data removed]",
      "text/plain": [
       "<Figure size 1000x600 with 1 Axes>"
      ]
     },
     "metadata": {},
     "output_type": "display_data"
    }
   ],
   "source": [
    "plt.figure(figsize=(10, 6))\n",
    "ax = sns.lineplot(df, x=\"annual_income\", y=\"purchase_amount\")\n",
    "ax.set_xlabel(\"Annual income\")\n",
    "ax.set_ylabel(\"Purchase amount\")\n",
    "plt.show()"
   ]
  },
  {
   "cell_type": "markdown",
   "id": "16afdeec-8c90-4ed1-a599-e0b1343bbf5c",
   "metadata": {},
   "source": [
    "7. Придумайте как визуализировать зависимость между частотой покупок, суммой покупок и скором лояльности *\n",
    "\n",
    "\\* Задание на доп. балл"
   ]
  },
  {
   "cell_type": "code",
   "execution_count": 33,
   "id": "e10d0cc7-a1ca-4204-a875-b1660e44618d",
   "metadata": {},
   "outputs": [
    {
     "data": {
      "image/png": "[encoded data removed]",
      "text/plain": [
       "<Figure size 1000x600 with 1 Axes>"
      ]
     },
     "metadata": {},
     "output_type": "display_data"
    }
   ],
   "source": [
    "fig = plt.figure(figsize=(10, 6))\n",
    "ax = plt.axes(111, projection=\"3d\")\n",
    "\n",
    "x = df[\"purchase_frequency\"]\n",
    "y = df[\"purchase_amount\"]\n",
    "z = df[\"loyalty_score\"]\n",
    "\n",
    "ax.scatter3D(x, y, z)\n",
    "ax.set_xlabel(\"Purchase frequency\")\n",
    "ax.set_ylabel(\"Purchase amount\")\n",
    "ax.set_zlabel(\"Loyalty score\")\n",
    "\n",
    "ax.view_init(25, 70)\n",
    "plt.show()"
   ]
  }
 ],
 "metadata": {
  "kernelspec": {
   "display_name": "Python 3 (ipykernel)",
   "language": "python",
   "name": "python3"
  },
  "language_info": {
   "codemirror_mode": {
    "name": "ipython",
    "version": 3
   },
   "file_extension": ".py",
   "mimetype": "text/x-python",
   "name": "python",
   "nbconvert_exporter": "python",
   "pygments_lexer": "ipython3",
   "version": "3.12.6"
  }
 },
 "nbformat": 4,
 "nbformat_minor": 5
}
